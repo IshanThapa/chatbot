{
 "cells": [
  {
   "cell_type": "code",
   "execution_count": 1,
   "id": "8852e36b",
   "metadata": {},
   "outputs": [],
   "source": [
    "# For the encoder-decoder structure in a seq2seq model using LSTM, here are the basic steps you might want to follow:\n",
    "\n",
    "# 1. Prepare Data:\n",
    "# Load and preprocess your dataset, tokenizing text into sequences.\n",
    "# Split the data into training and testing sets.\n",
    "# 2. Build the Encoder:\n",
    "# Create an LSTM-based encoder that processes input sequences.\n",
    "# Embed the input sequences.\n",
    "# Pass the embedded sequences through an LSTM layer to get the encoder output and states.\n",
    "# 3. Build the Decoder:\n",
    "# Create another LSTM-based model as the decoder.\n",
    "# Embed the output sequences.\n",
    "# Use the encoder states as initial states for the decoder.\n",
    "# Train the decoder to predict the target sequences based on the encoder states and target inputs.\n",
    "# 4. Create the Seq2Seq Model:\n",
    "# Combine the encoder and decoder models to form the full seq2seq model.\n",
    "# Here's a simplified example using Keras:\n",
    "\n",
    " \n",
    "\n",
    "# from tensorflow.keras.models import Model\n",
    "# from tensorflow.keras.layers import LSTM, Input, Embedding, Dense\n",
    "\n",
    "# # Define your input sequence length and vocabulary size\n",
    "# max_encoder_seq_length = ...\n",
    "# max_decoder_seq_length = ...\n",
    "# num_encoder_tokens = ...\n",
    "# num_decoder_tokens = ...\n",
    "\n",
    "# # Encoder\n",
    "# encoder_inputs = Input(shape=(max_encoder_seq_length,))\n",
    "# encoder_embedding = Embedding(num_encoder_tokens, latent_dim)(encoder_inputs)\n",
    "# encoder_lstm = LSTM(latent_dim, return_state=True)\n",
    "# encoder_outputs, state_h, state_c = encoder_lstm(encoder_embedding)\n",
    "# encoder_states = [state_h, state_c]\n",
    "\n",
    "# # Decoder\n",
    "# decoder_inputs = Input(shape=(max_decoder_seq_length,))\n",
    "# decoder_embedding = Embedding(num_decoder_tokens, latent_dim)(decoder_inputs)\n",
    "# decoder_lstm = LSTM(latent_dim, return_sequences=True, return_state=True)\n",
    "# decoder_outputs, _, _ = decoder_lstm(decoder_embedding, initial_state=encoder_states)\n",
    "# decoder_dense = Dense(num_decoder_tokens, activation='softmax')\n",
    "# decoder_outputs = decoder_dense(decoder_outputs)\n",
    "\n",
    "# # Define the model\n",
    "# model = Model([encoder_inputs, decoder_inputs], decoder_outputs)\n",
    "\n",
    "# # Compile the model and specify the optimizer, loss function, etc.\n",
    "# model.compile(optimizer='adam', loss='categorical_crossentropy', metrics=['accuracy'])\n",
    "\n",
    "# # Train the model using your prepared training data\n",
    "# model.fit([encoder_input_data, decoder_input_data], decoder_target_data, ...)\n",
    " \n",
    "\n",
    " \n",
    "\n",
    "# This is a high-level overview and a basic structure of an LSTM-based seq2seq model. You'll need to adapt this to your specific dataset and requirements.\n",
    "\n",
    "# If you're facing issues with your current code or implementation, please share specific parts of your code or explain the problem you're facing, and I'll be glad to assist you further!"
   ]
  },
  {
   "cell_type": "code",
   "execution_count": 2,
   "metadata": {},
   "outputs": [
    {
     "name": "stdout",
     "output_type": "stream",
     "text": [
      "WARNING:tensorflow:From c:\\Users\\crucial\\AppData\\Local\\anaconda3\\envs\\chatbot\\Lib\\site-packages\\keras\\src\\losses.py:2976: The name tf.losses.sparse_softmax_cross_entropy is deprecated. Please use tf.compat.v1.losses.sparse_softmax_cross_entropy instead.\n",
      "\n"
     ]
    }
   ],
   "source": [
    "#importing library-\n",
    "\n",
    "import numpy as np\n",
    "\n",
    "import re\n",
    "\n",
    "import time\n",
    "\n",
    "import tensorflow as tf\n",
    "from tensorflow.keras.preprocessing.text import Tokenizer\n",
    "from tensorflow.keras.preprocessing.sequence import pad_sequences\n",
    "from tensorflow.keras.models import Model\n",
    "from tensorflow.keras.layers import Input, Embedding, LSTM, Dense, Dropout, Bidirectional\n",
    "from tensorflow.keras.optimizers import Adam"
   ]
  },
  {
   "cell_type": "code",
   "execution_count": 3,
   "id": "fb3fd4b3",
   "metadata": {},
   "outputs": [],
   "source": [
    "#importing data-\n",
    "\n",
    "lines = open('movie_lines.tsv',encoding = 'utf-8', errors = 'ignore').read().split('\\n')\n",
    "\n",
    "conversations = open('movie_conversations.tsv',encoding = 'utf-8', errors = 'ignore').read().split('\\n')"
   ]
  },
  {
   "cell_type": "code",
   "execution_count": 4,
   "id": "cbc2dab9",
   "metadata": {},
   "outputs": [],
   "source": [
    "#lines"
   ]
  },
  {
   "cell_type": "code",
   "execution_count": 5,
   "id": "73b1fea6",
   "metadata": {},
   "outputs": [],
   "source": [
    "#conversations"
   ]
  },
  {
   "cell_type": "code",
   "execution_count": 6,
   "id": "1d2b68ea",
   "metadata": {},
   "outputs": [],
   "source": [
    "id2line = {}\n",
    "\n",
    "with open('movie_lines.tsv', 'r') as file:\n",
    "    for line in file:\n",
    "        _line = line.strip().split('\\t')\n",
    "        if len(_line) >= 5:\n",
    "            id2line[_line[0]] = _line[4]\n"
   ]
  },
  {
   "cell_type": "code",
   "execution_count": 7,
   "id": "41e5d982",
   "metadata": {},
   "outputs": [],
   "source": [
    "#'L1045': 'They do not!',\n",
    "#id2line"
   ]
  },
  {
   "cell_type": "code",
   "execution_count": 8,
   "id": "4afb189b",
   "metadata": {},
   "outputs": [],
   "source": [
    "conversations_ids = []\n",
    "for conversation in conversations[:-1]:\n",
    "    _conversation = conversation.strip().split('\\t')  # Split the conversation using tab as the delimiter\n",
    "    if len(_conversation) >= 2:  # Ensure the conversation has at least two fields\n",
    "        conv_id = _conversation[0]  # Assuming the ID is in the first field\n",
    "        last_field = _conversation[-1]  # Retrieve the last field\n",
    "        conversations_ids.append((conv_id, last_field))  # Append a tuple with ID and last field\n"
   ]
  },
  {
   "cell_type": "code",
   "execution_count": 9,
   "id": "f95e3193",
   "metadata": {},
   "outputs": [],
   "source": [
    "#('u0', \"['L194' 'L195' 'L196' 'L197']\")\n",
    "#conversations_ids"
   ]
  },
  {
   "cell_type": "code",
   "execution_count": 10,
   "id": "677e9664",
   "metadata": {},
   "outputs": [],
   "source": [
    "# questions = []\n",
    "# answers = []\n",
    "# for conversation in conversations_ids:\n",
    "#     if len(conversation) > 1:  # Ensure there is more than one element in the conversation\n",
    "#         for i in range(len(conversation) - 1):\n",
    "#             current_question = id2line.get(conversation[i])\n",
    "#             next_answer = id2line.get(conversation[i + 1])\n",
    "\n",
    "#             # Check for None values before appending\n",
    "#             if current_question is not None and next_answer is not None:\n",
    "#                 questions.append(current_question)\n",
    "#                 answers.append(next_answer)\n"
   ]
  },
  {
   "cell_type": "code",
   "execution_count": 11,
   "id": "ccd598df",
   "metadata": {},
   "outputs": [],
   "source": [
    "questions = []\n",
    "answers = []\n",
    "\n",
    "for conversation in conversations_ids:\n",
    "    if len(conversation) > 1:\n",
    "        # Extract individual IDs from the string representation of the list\n",
    "        conversation_ids_str = conversation[1].replace(\"'\", \"\").replace(\"[\", \"\").replace(\"]\", \"\")\n",
    "        conversation_ids_list = conversation_ids_str.split()\n",
    "\n",
    "        for i in range(len(conversation_ids_list) - 1):\n",
    "            current_question_id = conversation_ids_list[i]\n",
    "            next_answer_id = conversation_ids_list[i + 1]\n",
    "\n",
    "            # Retrieve lines using the IDs from id2line\n",
    "            current_question = id2line.get(current_question_id)\n",
    "            next_answer = id2line.get(next_answer_id)\n",
    "\n",
    "            # Check for None values before appending\n",
    "            if current_question is not None and next_answer is not None:\n",
    "                questions.append(current_question)\n",
    "                answers.append(next_answer)\n"
   ]
  },
  {
   "cell_type": "code",
   "execution_count": 12,
   "id": "94660da9",
   "metadata": {},
   "outputs": [],
   "source": [
    "#questions"
   ]
  },
  {
   "cell_type": "code",
   "execution_count": 13,
   "id": "b358c5b3",
   "metadata": {},
   "outputs": [],
   "source": [
    "#answers"
   ]
  },
  {
   "cell_type": "code",
   "execution_count": 14,
   "id": "a6002fc0",
   "metadata": {},
   "outputs": [],
   "source": [
    "def clean_text(text):\n",
    "    text = text.lower()\n",
    "    text = re.sub(r\"i'm\", \"i am\", text)\n",
    "    text = re.sub(r\"he's\", \"he is\", text)\n",
    "    text = re.sub(r\"she's\", \"she is\", text)\n",
    "    text = re.sub(r\"that's\", \"that is\", text)\n",
    "    text = re.sub(r\"what's\", \"what is\", text)\n",
    "    text = re.sub(r\"where's\", \"where is\", text)\n",
    "    text = re.sub(r\"\\'ll\", \" will\", text)\n",
    "    text = re.sub(r\"\\'ve\", \" have\", text)\n",
    "    text = re.sub(r\"\\'re\", \" are\", text)\n",
    "    text = re.sub(r\"\\'d\", \" would\", text)\n",
    "    text = re.sub(r\"won't\", \"will not\", text)\n",
    "    text = re.sub(r\"can't\", \"cannot\", text)\n",
    "    text = re.sub(r\"[-()\\\"#/@;:<>{}+=~|.?,]\", \"\", text)\n",
    "    return text\n"
   ]
  },
  {
   "cell_type": "code",
   "execution_count": 15,
   "id": "1467d3b6",
   "metadata": {},
   "outputs": [],
   "source": [
    "# Cleaning the questions\n",
    "clean_questions = []\n",
    "for question in questions:\n",
    "    clean_questions.append(clean_text(question))\n",
    " "
   ]
  },
  {
   "cell_type": "code",
   "execution_count": 16,
   "id": "c0a49868",
   "metadata": {},
   "outputs": [],
   "source": [
    "#clean_questions"
   ]
  },
  {
   "cell_type": "code",
   "execution_count": 17,
   "id": "b0ae2781",
   "metadata": {},
   "outputs": [],
   "source": [
    "# Cleaning the answers\n",
    "clean_answers = []\n",
    "for answer in answers:\n",
    "    clean_answers.append(clean_text(answer))"
   ]
  },
  {
   "cell_type": "code",
   "execution_count": 18,
   "id": "762cbf42",
   "metadata": {},
   "outputs": [],
   "source": [
    "#clean_answers"
   ]
  },
  {
   "cell_type": "code",
   "execution_count": 19,
   "id": "696e3ea2",
   "metadata": {},
   "outputs": [],
   "source": [
    "# Creating a dictionary that maps each word to its number of occurrences\n",
    "word2count = {}\n",
    "for question in clean_questions:\n",
    "    for word in question.split():\n",
    "        if word not in word2count:\n",
    "            word2count[word] = 1\n",
    "        else:\n",
    "            word2count[word] += 1"
   ]
  },
  {
   "cell_type": "code",
   "execution_count": 20,
   "id": "c9c80710",
   "metadata": {},
   "outputs": [],
   "source": [
    "#word2count"
   ]
  },
  {
   "cell_type": "code",
   "execution_count": 21,
   "id": "82b03b60",
   "metadata": {},
   "outputs": [],
   "source": [
    "for answer in clean_answers:\n",
    "    for word in answer.split():\n",
    "        if word not in word2count:\n",
    "            word2count[word] = 1\n",
    "        else:\n",
    "            word2count[word] += 1"
   ]
  },
  {
   "cell_type": "code",
   "execution_count": 22,
   "id": "ba223895",
   "metadata": {},
   "outputs": [],
   "source": [
    "# Creating two dictionaries that map the questions words and the answers words to a unique integer\n",
    "threshold_questions = 20\n",
    "questionswords2int = {}\n",
    "word_number = 0\n",
    "for word, count in word2count.items():\n",
    "    if count >= threshold_questions:\n",
    "        questionswords2int[word] = word_number\n",
    "        word_number += 1\n"
   ]
  },
  {
   "cell_type": "code",
   "execution_count": 23,
   "id": "b0f5ed19",
   "metadata": {},
   "outputs": [],
   "source": [
    "threshold_answers = 20\n",
    "answerswords2int = {}\n",
    "word_number = 0\n",
    "for word, count in word2count.items():\n",
    "    if count >= threshold_answers:\n",
    "        answerswords2int[word] = word_number\n",
    "        word_number += 1"
   ]
  },
  {
   "cell_type": "code",
   "execution_count": 24,
   "id": "c5cd39fd",
   "metadata": {},
   "outputs": [],
   "source": [
    "# Adding the last tokens to these two dictionaries\n",
    "tokens = ['<PAD>', '<EOS>', '<OUT>', '<SOS>']"
   ]
  },
  {
   "cell_type": "code",
   "execution_count": 25,
   "id": "87bdb47a",
   "metadata": {},
   "outputs": [],
   "source": [
    "for token in tokens:\n",
    "    questionswords2int[token] = len(questionswords2int) + 1\n",
    "for token in tokens:\n",
    "    answerswords2int[token] = len(answerswords2int) + 1"
   ]
  },
  {
   "cell_type": "code",
   "execution_count": 26,
   "id": "527ae768",
   "metadata": {},
   "outputs": [],
   "source": [
    " # Creating the inverse dictionary of the answerswords2int dictionary\n",
    "answersints2word = {w_i: w for w, w_i in answerswords2int.items()}"
   ]
  },
  {
   "cell_type": "code",
   "execution_count": 27,
   "id": "684a544f",
   "metadata": {},
   "outputs": [],
   "source": [
    "# Adding the End Of String token to the end of every answer\n",
    "for i in range(len(clean_answers)):\n",
    "    clean_answers[i] += ' <EOS>'\n",
    " "
   ]
  },
  {
   "cell_type": "code",
   "execution_count": 28,
   "id": "80202c2f",
   "metadata": {},
   "outputs": [],
   "source": [
    "# Translating all the questions and the answers into integers\n",
    "# and Replacing all the words that were filtered out by <OUT> \n",
    "questions_into_int = []\n",
    "for question in clean_questions:\n",
    "    ints = []\n",
    "    for word in question.split():\n",
    "        if word not in questionswords2int:\n",
    "            ints.append(questionswords2int['<OUT>'])\n",
    "        else:\n",
    "            ints.append(questionswords2int[word])\n",
    "    questions_into_int.append(ints)\n"
   ]
  },
  {
   "cell_type": "code",
   "execution_count": 29,
   "id": "f4aa4954",
   "metadata": {},
   "outputs": [],
   "source": [
    "answers_into_int = []\n",
    "for answer in clean_answers:\n",
    "    ints = []\n",
    "    for word in answer.split():\n",
    "        if word not in answerswords2int:\n",
    "            ints.append(answerswords2int['<OUT>'])\n",
    "        else:\n",
    "            ints.append(answerswords2int[word])\n",
    "    answers_into_int.append(ints)"
   ]
  },
  {
   "cell_type": "code",
   "execution_count": 30,
   "id": "fee493c0",
   "metadata": {},
   "outputs": [],
   "source": [
    "# Sorting questions and answers by the length of questions\n",
    "sorted_clean_questions = []\n",
    "sorted_clean_answers = []\n",
    "for length in range(1, 25 + 1):\n",
    "    for i in enumerate(questions_into_int):\n",
    "        if len(i[1]) == length:\n",
    "            sorted_clean_questions.append(questions_into_int[i[0]])\n",
    "            sorted_clean_answers.append(answers_into_int[i[0]])"
   ]
  },
  {
   "cell_type": "markdown",
   "id": "d237f4ae",
   "metadata": {},
   "source": [
    "BUILDING THE SEQ2SEQ MODEL--"
   ]
  },
  {
   "cell_type": "code",
   "execution_count": 43,
   "id": "a462e217",
   "metadata": {},
   "outputs": [],
   "source": [
    "# inputs and the targets-\n",
    "def model_inputs():\n",
    "    inputs = tf.keras.layers.Input(shape=(None,), dtype=tf.int32, name='input')\n",
    "    targets = tf.keras.layers.Input(shape=(None,), dtype=tf.int32, name='target')\n",
    "    lr = tf.keras.layers.Input(shape=(), dtype=tf.float32, name='learning_rate')\n",
    "    keep_prob = tf.keras.layers.Input(shape=(), dtype=tf.float32, name='keep_prob')\n",
    "    return inputs, targets, lr, keep_prob"
   ]
  },
  {
   "cell_type": "code",
   "execution_count": 32,
   "id": "1519704e",
   "metadata": {},
   "outputs": [],
   "source": [
    "# Preprocessing the targets\n",
    "def preprocess_targets(targets, word2int, batch_size):\n",
    "    left_side = tf.fill([batch_size, 1], word2int['<SOS>'])\n",
    "    right_side = tf.strided_slice(targets, [0,0], [batch_size, -1], [1,1])\n",
    "    preprocessed_targets = tf.concat([left_side, right_side], 1)\n",
    "    return preprocessed_targets\n",
    " "
   ]
  },
  {
   "cell_type": "code",
   "execution_count": 33,
   "id": "235f00e8",
   "metadata": {},
   "outputs": [],
   "source": [
    "# Creating the Encoder RNN\n",
    "def encoder_rnn(rnn_inputs, rnn_size, num_layers, keep_prob, sequence_length):\n",
    "    lstm = tf.contrib.rnn.BasicLSTMCell(rnn_size)\n",
    "    lstm_dropout = tf.contrib.rnn.DropoutWrapper(lstm, input_keep_prob = keep_prob)\n",
    "    encoder_cell = tf.contrib.rnn.MultiRNNCell([lstm_dropout] * num_layers)\n",
    "    encoder_output, encoder_state = tf.nn.bidirectional_dynamic_rnn(cell_fw = encoder_cell,\n",
    "                                                                    cell_bw = encoder_cell,\n",
    "                                                                    sequence_length = sequence_length,\n",
    "                                                                    inputs = rnn_inputs,\n",
    "                                                                    dtype = tf.float32)\n",
    "    return encoder_state"
   ]
  },
  {
   "cell_type": "code",
   "execution_count": 34,
   "id": "1a6302b0",
   "metadata": {},
   "outputs": [],
   "source": [
    " \n",
    "# Decoding the training set\n",
    "def decode_training_set(encoder_state, decoder_cell, decoder_embedded_input, sequence_length, decoding_scope, output_function, keep_prob, batch_size):\n",
    "    attention_states = tf.zeros([batch_size, 1, decoder_cell.output_size])\n",
    "    attention_keys, attention_values, attention_score_function, attention_construct_function = tf.contrib.seq2seq.prepare_attention(attention_states, attention_option = \"bahdanau\", num_units = decoder_cell.output_size)\n",
    "    training_decoder_function = tf.contrib.seq2seq.attention_decoder_fn_train(encoder_state[0],\n",
    "                                                                              attention_keys,\n",
    "                                                                              attention_values,\n",
    "                                                                              attention_score_function,\n",
    "                                                                              attention_construct_function,\n",
    "                                                                              name = \"attn_dec_train\")\n",
    "    decoder_output, decoder_final_state, decoder_final_context_state = tf.contrib.seq2seq.dynamic_rnn_decoder(decoder_cell,\n",
    "                                                                                                              training_decoder_function,\n",
    "                                                                                                              decoder_embedded_input,\n",
    "                                                                                                              sequence_length,\n",
    "                                                                                                              scope = decoding_scope)\n",
    "    decoder_output_dropout = tf.nn.dropout(decoder_output, keep_prob)\n",
    "    return output_function(decoder_output_dropout)"
   ]
  },
  {
   "cell_type": "code",
   "execution_count": 35,
   "id": "c2db4c09",
   "metadata": {},
   "outputs": [],
   "source": [
    "# Decoding the test/validation set\n",
    "def decode_test_set(encoder_state, decoder_cell, decoder_embeddings_matrix, sos_id, eos_id, maximum_length, num_words, decoding_scope, output_function, keep_prob, batch_size):\n",
    "    attention_states = tf.zeros([batch_size, 1, decoder_cell.output_size])\n",
    "    attention_keys, attention_values, attention_score_function, attention_construct_function = tf.contrib.seq2seq.prepare_attention(attention_states, attention_option = \"bahdanau\", num_units = decoder_cell.output_size)\n",
    "    test_decoder_function = tf.contrib.seq2seq.attention_decoder_fn_inference(output_function,\n",
    "                                                                              encoder_state[0],\n",
    "                                                                              attention_keys,\n",
    "                                                                              attention_values,\n",
    "                                                                              attention_score_function,\n",
    "                                                                              attention_construct_function,\n",
    "                                                                              decoder_embeddings_matrix,\n",
    "                                                                              sos_id,\n",
    "                                                                              eos_id,\n",
    "                                                                              maximum_length,\n",
    "                                                                              num_words,\n",
    "                                                                              name = \"attn_dec_inf\")\n",
    "    test_predictions, decoder_final_state, decoder_final_context_state = tf.contrib.seq2seq.dynamic_rnn_decoder(decoder_cell,\n",
    "                                                                                                                test_decoder_function,\n",
    "                                                                                                                scope = decoding_scope)\n",
    "    return test_predictions"
   ]
  },
  {
   "cell_type": "code",
   "execution_count": 36,
   "id": "3235f989",
   "metadata": {},
   "outputs": [],
   "source": [
    "# Creating the Decoder RNN\n",
    "def decoder_rnn(decoder_embedded_input, decoder_embeddings_matrix, encoder_state, num_words, sequence_length, rnn_size, num_layers, word2int, keep_prob, batch_size):\n",
    "    with tf.variable_scope(\"decoding\") as decoding_scope:\n",
    "        lstm = tf.contrib.rnn.BasicLSTMCell(rnn_size)\n",
    "        lstm_dropout = tf.contrib.rnn.DropoutWrapper(lstm, input_keep_prob = keep_prob)\n",
    "        decoder_cell = tf.contrib.rnn.MultiRNNCell([lstm_dropout] * num_layers)\n",
    "        weights = tf.truncated_normal_initializer(stddev = 0.1)\n",
    "        biases = tf.zeros_initializer()\n",
    "        output_function = lambda x: tf.contrib.layers.fully_connected(x,\n",
    "                                                                      num_words,\n",
    "                                                                      None,\n",
    "                                                                      scope = decoding_scope,\n",
    "                                                                      weights_initializer = weights,\n",
    "                                                                      biases_initializer = biases)\n",
    "        training_predictions = decode_training_set(encoder_state,\n",
    "                                                   decoder_cell,\n",
    "                                                   decoder_embedded_input,\n",
    "                                                   sequence_length,\n",
    "                                                   decoding_scope,\n",
    "                                                   output_function,\n",
    "                                                   keep_prob,\n",
    "                                                   batch_size)\n",
    "        decoding_scope.reuse_variables()\n",
    "        test_predictions = decode_test_set(encoder_state,\n",
    "                                           decoder_cell,\n",
    "                                           decoder_embeddings_matrix,\n",
    "                                           word2int['<SOS>'],\n",
    "                                           word2int['<EOS>'],\n",
    "                                           sequence_length - 1,\n",
    "                                           num_words,\n",
    "                                           decoding_scope,\n",
    "                                           output_function,\n",
    "                                           keep_prob,\n",
    "                                           batch_size)\n",
    "    return training_predictions, test_predictions"
   ]
  },
  {
   "cell_type": "code",
   "execution_count": 37,
   "id": "963aaf5a",
   "metadata": {},
   "outputs": [],
   "source": [
    "# #Building the seq2seq model--\n",
    "# def seq2seq_model(inputs, targets, keep_prob, batch_size, sequence_length, answers_num_words, questions_num_words, encoder_embedding_size, decoder_embedding_size, rnn_size, num_layers, questionswords2int):\n",
    "#     encoder_embedded_input = tf.contrib.layers.embed_sequence(inputs,\n",
    "#                                                               answers_num_words + 1,\n",
    "#                                                               encoder_embedding_size,\n",
    "#                                                               initializer = tf.random_uniform_initializer(0, 1))\n",
    "#     encoder_state = encoder_rnn(encoder_embedded_input, rnn_size, num_layers, keep_prob, sequence_length)\n",
    "#     preprocessed_targets = preprocess_targets(targets, questionswords2int, batch_size)\n",
    "#     decoder_embeddings_matrix = tf.Variable(tf.random_uniform([questions_num_words + 1, decoder_embedding_size], 0, 1))\n",
    "#     decoder_embedded_input = tf.nn.embedding_lookup(decoder_embeddings_matrix, preprocessed_targets)\n",
    "#     training_predictions, test_predictions = decoder_rnn(decoder_embedded_input,\n",
    "#                                                          decoder_embeddings_matrix,\n",
    "#                                                          encoder_state,\n",
    "#                                                          questions_num_words,\n",
    "#                                                          sequence_length,\n",
    "#                                                          rnn_size,\n",
    "#                                                          num_layers,\n",
    "#                                                          questionswords2int,\n",
    "#                                                          keep_prob,\n",
    "#                                                          batch_size)\n",
    "#     return training_predictions, test_predictions"
   ]
  },
  {
   "cell_type": "code",
   "execution_count": 38,
   "id": "9ac565a1",
   "metadata": {},
   "outputs": [],
   "source": [
    "#Building the seq2seq model--\n",
    "def seq2seq_model(inputs, targets, keep_prob, batch_size, sequence_length, answers_num_words, questions_num_words, encoder_embedding_size, decoder_embedding_size, rnn_size, num_layers, questionswords2int):\n",
    "    embedding_layer = tf.keras.layers.Embedding(input_dim=answers_num_words + 1,\n",
    "                                           output_dim=encoder_embedding_size,\n",
    "                                           embeddings_initializer=tf.keras.initializers.RandomUniform(0, 1))\n",
    "    encoder_embedded_input = embedding_layer(inputs)\n",
    "    encoder_state = encoder_rnn(encoder_embedded_input, rnn_size, num_layers, keep_prob, sequence_length)\n",
    "    preprocessed_targets = preprocess_targets(targets, questionswords2int, batch_size)\n",
    "    decoder_embeddings_matrix = tf.Variable(tf.random_uniform([questions_num_words + 1, decoder_embedding_size], 0, 1))\n",
    "    decoder_embedded_input = tf.nn.embedding_lookup(decoder_embeddings_matrix, preprocessed_targets)\n",
    "    training_predictions, test_predictions = decoder_rnn(decoder_embedded_input,\n",
    "                                                         decoder_embeddings_matrix,\n",
    "                                                         encoder_state,\n",
    "                                                         questions_num_words,\n",
    "                                                         sequence_length,\n",
    "                                                         rnn_size,\n",
    "                                                         num_layers,\n",
    "                                                         questionswords2int,\n",
    "                                                         keep_prob,\n",
    "                                                         batch_size)\n",
    "    return training_predictions, test_predictions\n",
    "\n"
   ]
  },
  {
   "cell_type": "markdown",
   "id": "fe4e01b8",
   "metadata": {},
   "source": [
    "PART 3 - TRAINING THE SEQ2SEQ MODEL"
   ]
  },
  {
   "cell_type": "code",
   "execution_count": 39,
   "id": "b38bd3c1",
   "metadata": {},
   "outputs": [],
   "source": [
    "# Setting the Hyperparameters\n",
    "epochs = 100\n",
    "batch_size = 64\n",
    "rnn_size = 512\n",
    "num_layers = 3\n",
    "encoding_embedding_size = 512\n",
    "decoding_embedding_size = 512\n",
    "learning_rate = 0.01\n",
    "learning_rate_decay = 0.9\n",
    "min_learning_rate = 0.0001\n",
    "keep_probability = 0.5\n",
    " "
   ]
  },
  {
   "cell_type": "code",
   "execution_count": 40,
   "id": "831afd05",
   "metadata": {},
   "outputs": [],
   "source": [
    "# Loading the model inputs\n",
    "def model_inputs():\n",
    "    inputs = tf.keras.layers.Input(shape=(None,), dtype=tf.int32, name='input')\n",
    "    targets = tf.keras.layers.Input(shape=(None,), dtype=tf.int32, name='target')\n",
    "    lr = tf.keras.layers.Input(shape=(), dtype=tf.float32, name='learning_rate')\n",
    "    keep_prob = tf.keras.layers.Input(shape=(), dtype=tf.float32, name='keep_prob')\n",
    "    \n",
    "    return inputs, targets, lr, keep_prob\n",
    "\n",
    "# Setting the sequence length\n",
    "sequence_length = 25\n",
    "\n",
    "# Getting the shape of the inputs tensor\n",
    "input_shape = (None, None)\n"
   ]
  },
  {
   "cell_type": "code",
   "execution_count": 41,
   "id": "ab9fb608",
   "metadata": {},
   "outputs": [],
   "source": [
    "def encoder_rnn(inputs, rnn_size, num_layers, keep_prob, sequence_length):\n",
    "    \n",
    "    lstm = tf.keras.layers.LSTM(rnn_size, return_sequences=True, return_state=True)\n",
    "    \n",
    "    lstm_dropout = tf.keras.layers.Dropout(keep_prob)\n",
    "    \n",
    "    # Create a list of LSTM layers\n",
    "    encoder_cell = [lstm_dropout] * num_layers\n",
    "    \n",
    "    # Create a stacked LSTM layer\n",
    "    encoder_lstm = tf.keras.layers.StackedRNNCells(encoder_cell)\n",
    "    \n",
    "    # Build the RNN\n",
    "    encoder_output, encoder_state = tf.keras.layers.RNN(encoder_lstm, return_sequences=True, return_state=True)(inputs)\n",
    "\n",
    "    return encoder_output, encoder_state"
   ]
  },
  {
   "cell_type": "code",
   "execution_count": 42,
   "id": "3465d9ae",
   "metadata": {},
   "outputs": [
    {
     "ename": "AttributeError",
     "evalue": "module 'tensorflow._api.v2.compat.v2.compat.v1' has no attribute 'tf'",
     "output_type": "error",
     "traceback": [
      "\u001b[1;31m---------------------------------------------------------------------------\u001b[0m",
      "\u001b[1;31mAttributeError\u001b[0m                            Traceback (most recent call last)",
      "Cell \u001b[1;32mIn[42], line 1\u001b[0m\n\u001b[1;32m----> 1\u001b[0m inputs, targets, lr, keep_prob \u001b[38;5;241m=\u001b[39m \u001b[43mmodel_inputs\u001b[49m\u001b[43m(\u001b[49m\u001b[43m)\u001b[49m\n\u001b[0;32m      2\u001b[0m \u001b[38;5;66;03m# Getting the training and test predictions\u001b[39;00m\n\u001b[0;32m      3\u001b[0m training_predictions, test_predictions \u001b[38;5;241m=\u001b[39m seq2seq_model(tf\u001b[38;5;241m.\u001b[39mreverse(inputs, [\u001b[38;5;241m-\u001b[39m\u001b[38;5;241m1\u001b[39m]),\n\u001b[0;32m      4\u001b[0m                                                        targets,\n\u001b[0;32m      5\u001b[0m                                                        keep_prob,\n\u001b[1;32m   (...)\u001b[0m\n\u001b[0;32m     13\u001b[0m                                                        num_layers,\n\u001b[0;32m     14\u001b[0m                                                        questionswords2int)\n",
      "Cell \u001b[1;32mIn[40], line 3\u001b[0m, in \u001b[0;36mmodel_inputs\u001b[1;34m()\u001b[0m\n\u001b[0;32m      2\u001b[0m \u001b[38;5;28;01mdef\u001b[39;00m \u001b[38;5;21mmodel_inputs\u001b[39m():\n\u001b[1;32m----> 3\u001b[0m     inputs \u001b[38;5;241m=\u001b[39m \u001b[43mtf\u001b[49m\u001b[38;5;241;43m.\u001b[39;49m\u001b[43mkeras\u001b[49m\u001b[38;5;241;43m.\u001b[39;49m\u001b[43mlayers\u001b[49m\u001b[38;5;241;43m.\u001b[39;49m\u001b[43mInput\u001b[49m\u001b[43m(\u001b[49m\u001b[43mshape\u001b[49m\u001b[38;5;241;43m=\u001b[39;49m\u001b[43m(\u001b[49m\u001b[38;5;28;43;01mNone\u001b[39;49;00m\u001b[43m,\u001b[49m\u001b[43m)\u001b[49m\u001b[43m,\u001b[49m\u001b[43m \u001b[49m\u001b[43mdtype\u001b[49m\u001b[38;5;241;43m=\u001b[39;49m\u001b[43mtf\u001b[49m\u001b[38;5;241;43m.\u001b[39;49m\u001b[43mint32\u001b[49m\u001b[43m,\u001b[49m\u001b[43m \u001b[49m\u001b[43mname\u001b[49m\u001b[38;5;241;43m=\u001b[39;49m\u001b[38;5;124;43m'\u001b[39;49m\u001b[38;5;124;43minput\u001b[39;49m\u001b[38;5;124;43m'\u001b[39;49m\u001b[43m)\u001b[49m\n\u001b[0;32m      4\u001b[0m     targets \u001b[38;5;241m=\u001b[39m tf\u001b[38;5;241m.\u001b[39mkeras\u001b[38;5;241m.\u001b[39mlayers\u001b[38;5;241m.\u001b[39mInput(shape\u001b[38;5;241m=\u001b[39m(\u001b[38;5;28;01mNone\u001b[39;00m,), dtype\u001b[38;5;241m=\u001b[39mtf\u001b[38;5;241m.\u001b[39mint32, name\u001b[38;5;241m=\u001b[39m\u001b[38;5;124m'\u001b[39m\u001b[38;5;124mtarget\u001b[39m\u001b[38;5;124m'\u001b[39m)\n\u001b[0;32m      5\u001b[0m     lr \u001b[38;5;241m=\u001b[39m tf\u001b[38;5;241m.\u001b[39mkeras\u001b[38;5;241m.\u001b[39mlayers\u001b[38;5;241m.\u001b[39mInput(shape\u001b[38;5;241m=\u001b[39m(), dtype\u001b[38;5;241m=\u001b[39mtf\u001b[38;5;241m.\u001b[39mfloat32, name\u001b[38;5;241m=\u001b[39m\u001b[38;5;124m'\u001b[39m\u001b[38;5;124mlearning_rate\u001b[39m\u001b[38;5;124m'\u001b[39m)\n",
      "File \u001b[1;32mc:\\Users\\crucial\\AppData\\Local\\anaconda3\\envs\\chatbot\\Lib\\site-packages\\keras\\src\\utils\\traceback_utils.py:70\u001b[0m, in \u001b[0;36mfilter_traceback.<locals>.error_handler\u001b[1;34m(*args, **kwargs)\u001b[0m\n\u001b[0;32m     67\u001b[0m     filtered_tb \u001b[38;5;241m=\u001b[39m _process_traceback_frames(e\u001b[38;5;241m.\u001b[39m__traceback__)\n\u001b[0;32m     68\u001b[0m     \u001b[38;5;66;03m# To get the full stack trace, call:\u001b[39;00m\n\u001b[0;32m     69\u001b[0m     \u001b[38;5;66;03m# `tf.debugging.disable_traceback_filtering()`\u001b[39;00m\n\u001b[1;32m---> 70\u001b[0m     \u001b[38;5;28;01mraise\u001b[39;00m e\u001b[38;5;241m.\u001b[39mwith_traceback(filtered_tb) \u001b[38;5;28;01mfrom\u001b[39;00m \u001b[38;5;28;01mNone\u001b[39;00m\n\u001b[0;32m     71\u001b[0m \u001b[38;5;28;01mfinally\u001b[39;00m:\n\u001b[0;32m     72\u001b[0m     \u001b[38;5;28;01mdel\u001b[39;00m filtered_tb\n",
      "File \u001b[1;32mc:\\Users\\crucial\\AppData\\Local\\anaconda3\\envs\\chatbot\\Lib\\site-packages\\tensorflow\\python\\util\\module_wrapper.py:232\u001b[0m, in \u001b[0;36mTFModuleWrapper._getattr\u001b[1;34m(self, name)\u001b[0m\n\u001b[0;32m    220\u001b[0m \u001b[38;5;250m\u001b[39m\u001b[38;5;124;03m\"\"\"Imports and caches pre-defined API.\u001b[39;00m\n\u001b[0;32m    221\u001b[0m \n\u001b[0;32m    222\u001b[0m \u001b[38;5;124;03mWarns if necessary.\u001b[39;00m\n\u001b[1;32m   (...)\u001b[0m\n\u001b[0;32m    229\u001b[0m \u001b[38;5;124;03mfails.\u001b[39;00m\n\u001b[0;32m    230\u001b[0m \u001b[38;5;124;03m\"\"\"\u001b[39;00m\n\u001b[0;32m    231\u001b[0m \u001b[38;5;28;01mtry\u001b[39;00m:\n\u001b[1;32m--> 232\u001b[0m   attr \u001b[38;5;241m=\u001b[39m \u001b[38;5;28mgetattr\u001b[39m(\u001b[38;5;28mself\u001b[39m\u001b[38;5;241m.\u001b[39m_tfmw_wrapped_module, name)\n\u001b[0;32m    233\u001b[0m \u001b[38;5;28;01mexcept\u001b[39;00m \u001b[38;5;167;01mAttributeError\u001b[39;00m:\n\u001b[0;32m    234\u001b[0m \u001b[38;5;66;03m# Placeholder for Google-internal contrib error\u001b[39;00m\n\u001b[0;32m    236\u001b[0m   \u001b[38;5;28;01mif\u001b[39;00m \u001b[38;5;129;01mnot\u001b[39;00m \u001b[38;5;28mself\u001b[39m\u001b[38;5;241m.\u001b[39m_tfmw_public_apis:\n",
      "\u001b[1;31mAttributeError\u001b[0m: module 'tensorflow._api.v2.compat.v2.compat.v1' has no attribute 'tf'"
     ]
    }
   ],
   "source": [
    "inputs, targets, lr, keep_prob = model_inputs()\n",
    "# Getting the training and test predictions\n",
    "training_predictions, test_predictions = seq2seq_model(tf.reverse(inputs, [-1]),\n",
    "                                                       targets,\n",
    "                                                       keep_prob,\n",
    "                                                       batch_size,\n",
    "                                                       sequence_length,\n",
    "                                                       len(answerswords2int),\n",
    "                                                       len(questionswords2int),\n",
    "                                                       encoding_embedding_size,\n",
    "                                                       decoding_embedding_size,\n",
    "                                                       rnn_size,\n",
    "                                                       num_layers,\n",
    "                                                       questionswords2int)"
   ]
  },
  {
   "cell_type": "code",
   "execution_count": null,
   "id": "c8b46946",
   "metadata": {},
   "outputs": [],
   "source": [
    "\n",
    "# # Setting up the Loss Error, the Optimizer and Gradient Clipping\n",
    "# with tf.name_scope(\"optimization\"):\n",
    "#     loss_error = tf.contrib.seq2seq.sequence_loss(training_predictions,\n",
    "#                                                   targets,\n",
    "#                                                   tf.ones([input_shape[0], sequence_length]))\n",
    "#     optimizer = tf.train.AdamOptimizer(learning_rate)\n",
    "#     gradients = optimizer.compute_gradients(loss_error)\n",
    "#     clipped_gradients = [(tf.clip_by_value(grad_tensor, -5., 5.), grad_variable) for grad_tensor, grad_variable in gradients if grad_tensor is not None]\n",
    "#     optimizer_gradient_clipping = optimizer.apply_gradients(clipped_gradients)"
   ]
  },
  {
   "cell_type": "code",
   "execution_count": null,
   "id": "329d41b7",
   "metadata": {},
   "outputs": [
    {
     "ename": "NameError",
     "evalue": "name 'targets' is not defined",
     "output_type": "error",
     "traceback": [
      "\u001b[1;31m---------------------------------------------------------------------------\u001b[0m",
      "\u001b[1;31mNameError\u001b[0m                                 Traceback (most recent call last)",
      "Cell \u001b[1;32mIn[43], line 3\u001b[0m\n\u001b[0;32m      1\u001b[0m \u001b[38;5;28;01mwith\u001b[39;00m tf\u001b[38;5;241m.\u001b[39mname_scope(\u001b[38;5;124m\"\u001b[39m\u001b[38;5;124moptimization\u001b[39m\u001b[38;5;124m\"\u001b[39m):\n\u001b[0;32m      2\u001b[0m     loss_object \u001b[38;5;241m=\u001b[39m tf\u001b[38;5;241m.\u001b[39mkeras\u001b[38;5;241m.\u001b[39mlosses\u001b[38;5;241m.\u001b[39mSparseCategoricalCrossentropy(from_logits\u001b[38;5;241m=\u001b[39m\u001b[38;5;28;01mTrue\u001b[39;00m, reduction\u001b[38;5;241m=\u001b[39m\u001b[38;5;124m'\u001b[39m\u001b[38;5;124mnone\u001b[39m\u001b[38;5;124m'\u001b[39m)\n\u001b[1;32m----> 3\u001b[0m     mask \u001b[38;5;241m=\u001b[39m tf\u001b[38;5;241m.\u001b[39mmath\u001b[38;5;241m.\u001b[39mlogical_not(tf\u001b[38;5;241m.\u001b[39mmath\u001b[38;5;241m.\u001b[39mequal(\u001b[43mtargets\u001b[49m, \u001b[38;5;241m0\u001b[39m))  \u001b[38;5;66;03m# Create a mask for non-zero targets\u001b[39;00m\n\u001b[0;32m      4\u001b[0m     loss_ \u001b[38;5;241m=\u001b[39m loss_object(targets, training_predictions)\n\u001b[0;32m      5\u001b[0m     mask \u001b[38;5;241m=\u001b[39m tf\u001b[38;5;241m.\u001b[39mcast(mask, dtype\u001b[38;5;241m=\u001b[39mloss_\u001b[38;5;241m.\u001b[39mdtype)\n",
      "\u001b[1;31mNameError\u001b[0m: name 'targets' is not defined"
     ]
    }
   ],
   "source": [
    "with tf.name_scope(\"optimization\"):\n",
    "    loss_object = tf.keras.losses.SparseCategoricalCrossentropy(from_logits=True, reduction='none')\n",
    "    mask = tf.math.logical_not(tf.math.equal(targets, 0))  # Create a mask for non-zero targets\n",
    "    loss_ = loss_object(targets, training_predictions)\n",
    "    mask = tf.cast(mask, dtype=loss_.dtype)\n",
    "    loss_ *= mask  # Apply the mask to the loss\n",
    "    loss_error = tf.reduce_mean(loss_)\n",
    "\n",
    "    optimizer = tf.keras.optimizers.Adam(learning_rate)\n",
    "\n",
    "    # Get model trainable variables\n",
    "    variables = seq2seq_model.trainable_variables\n",
    "\n",
    "    gradients = tf.gradients(loss_, variables)\n",
    "    clipped_gradients, _ = tf.clip_by_global_norm(gradients, 5.0)\n",
    "\n",
    "    optimizer_gradient_clipping = optimizer.apply_gradients(zip(clipped_gradients, variables))\n",
    "\n",
    "#i hav to define targets before executing this cell so that it can pass data to all non zero targets."
   ]
  },
  {
   "cell_type": "code",
   "execution_count": 46,
   "id": "234f6eba",
   "metadata": {},
   "outputs": [],
   "source": [
    "# Padding the sequences with the <PAD> token\n",
    "def apply_padding(batch_of_sequences, word2int):\n",
    "    max_sequence_length = max([len(sequence) for sequence in batch_of_sequences])\n",
    "    return [sequence + [word2int['<PAD>']] * (max_sequence_length - len(sequence)) for sequence in batch_of_sequences]"
   ]
  },
  {
   "cell_type": "code",
   "execution_count": 45,
   "id": "b1512898",
   "metadata": {},
   "outputs": [],
   "source": [
    "# Splitting the data into batches of questions and answers\n",
    "def split_into_batches(questions, answers, batch_size):\n",
    "    for batch_index in range(0, len(questions) // batch_size):\n",
    "        start_index = batch_index * batch_size\n",
    "        questions_in_batch = questions[start_index : start_index + batch_size]\n",
    "        answers_in_batch = answers[start_index : start_index + batch_size]\n",
    "        padded_questions_in_batch = np.array(apply_padding(questions_in_batch, questionswords2int))\n",
    "        padded_answers_in_batch = np.array(apply_padding(answers_in_batch, answerswords2int))\n",
    "        yield padded_questions_in_batch, padded_answers_in_batch"
   ]
  },
  {
   "cell_type": "code",
   "execution_count": 44,
   "id": "09c1fdac",
   "metadata": {},
   "outputs": [],
   "source": [
    "# Splitting the questions and answers into training and validation sets\n",
    "training_validation_split = int(len(sorted_clean_questions) * 0.15)\n",
    "training_questions = sorted_clean_questions[training_validation_split:]\n",
    "training_answers = sorted_clean_answers[training_validation_split:]\n",
    "validation_questions = sorted_clean_questions[:training_validation_split]\n",
    "validation_answers = sorted_clean_answers[:training_validation_split]"
   ]
  }
 ],
 "metadata": {
  "kernelspec": {
   "display_name": "chatbot",
   "language": "python",
   "name": "python3"
  },
  "language_info": {
   "codemirror_mode": {
    "name": "ipython",
    "version": 3
   },
   "file_extension": ".py",
   "mimetype": "text/x-python",
   "name": "python",
   "nbconvert_exporter": "python",
   "pygments_lexer": "ipython3",
   "version": "3.11.5"
  }
 },
 "nbformat": 4,
 "nbformat_minor": 5
}
